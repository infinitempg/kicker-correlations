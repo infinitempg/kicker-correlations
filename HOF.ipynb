{
 "cells": [
  {
   "cell_type": "markdown",
   "metadata": {},
   "source": [
    "# HOF Stats"
   ]
  },
  {
   "cell_type": "code",
   "execution_count": 2,
   "metadata": {},
   "outputs": [],
   "source": [
    "import pandas as pd\n",
    "import numpy as np"
   ]
  },
  {
   "cell_type": "code",
   "execution_count": 14,
   "metadata": {},
   "outputs": [],
   "source": [
    "DefDF = pd.read_csv('DefensiveDF.csv')\n",
    "KDF = pd.read_csv('KickingDF.csv')\n",
    "OLDF = pd.read_csv('OffensiveLineDF.csv')\n",
    "QBDF = pd.read_csv('PassingDF.csv')\n",
    "PDF = pd.read_csv('PuntingDF.csv')\n",
    "RecDF = pd.read_csv('ReceivingDF.csv')\n",
    "RunDF = pd.read_csv('RushingDF.csv')\n",
    "STDF = pd.read_csv('SpecialTeamsDF.csv')"
   ]
  },
  {
   "cell_type": "code",
   "execution_count": null,
   "metadata": {},
   "outputs": [],
   "source": []
  }
 ],
 "metadata": {
  "kernelspec": {
   "display_name": "Python 3",
   "language": "python",
   "name": "python3"
  },
  "language_info": {
   "codemirror_mode": {
    "name": "ipython",
    "version": 3
   },
   "file_extension": ".py",
   "mimetype": "text/x-python",
   "name": "python",
   "nbconvert_exporter": "python",
   "pygments_lexer": "ipython3",
   "version": "3.7.5"
  }
 },
 "nbformat": 4,
 "nbformat_minor": 4
}
