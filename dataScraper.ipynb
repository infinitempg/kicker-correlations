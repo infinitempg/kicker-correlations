{
 "cells": [
  {
   "cell_type": "markdown",
   "metadata": {},
   "source": [
    "# Data Scraper"
   ]
  },
  {
   "cell_type": "code",
   "execution_count": 664,
   "metadata": {},
   "outputs": [],
   "source": [
    "import requests\n",
    "from bs4 import BeautifulSoup\n",
    "import pandas as pd\n",
    "import numpy as np\n",
    "import re\n",
    "from tqdm.notebook import tqdm\n",
    "from urllib.request import urlopen\n",
    "import matplotlib.pyplot as plt"
   ]
  },
  {
   "cell_type": "code",
   "execution_count": 2,
   "metadata": {},
   "outputs": [],
   "source": [
    "requestHead = {\"User-Agent\": \"Chrome/47.0.2526.111\"}"
   ]
  },
  {
   "cell_type": "code",
   "execution_count": 11,
   "metadata": {},
   "outputs": [],
   "source": [
    "def percentDist(row):\n",
    "    makeMiss = row[dist].split('/')\n",
    "    makeMiss = [int(m) for m in makeMiss]\n",
    "    if makeMiss[1] != 0:\n",
    "        pct = makeMiss[0]/makeMiss[1]\n",
    "    else:\n",
    "        pct = 0.\n",
    "    return pct*100"
   ]
  },
  {
   "cell_type": "code",
   "execution_count": 8,
   "metadata": {},
   "outputs": [],
   "source": [
    "def teamID(row,S):\n",
    "    if S < 5:\n",
    "        teamIDs = {'1':'BAL','2':'YKW','3':'COL','4':'ARI','5':'OCO','6':'SJS','7':'PHI','8':'LV','9':'CHI','10':'AUS'}\n",
    "    elif S == 5:\n",
    "        teamIDs = {'1':'BAL','2':'YKW','3':'COL','4':'AZ','5':'OCO','6':'SJS','7':'PHI','8':'LV','9':'CHI','10':'AUS'}\n",
    "    else:\n",
    "        teamIDs = {'1':'BAL','2':'YKW','3':'COL','4':'AZ','5':'OCO','6':'SJS','7':'PHI','8':'NO','9':'CHI','10':'AUS'}\n",
    "    \n",
    "    for ID,team in teamIDs.items():\n",
    "        if row.Team == team:\n",
    "            return int(ID)"
   ]
  },
  {
   "cell_type": "code",
   "execution_count": 23,
   "metadata": {},
   "outputs": [],
   "source": [
    "def standID(S,row):\n",
    "    if S <= 5:\n",
    "        teamIDs = {'1':'Baltimore Hawks','2':'Yellowknife Wraiths','3':'Colorado Yeti','4':'Arizona Outlaws','5':'Orange County Otters',\n",
    "                   '6':'San Jose SaberCats','7':'Philadelphia Liberty','8':'Las Vegas Legion','9':'Chicago Butchers','10':'Austin Copperheads'}\n",
    "    else:\n",
    "        teamIDs = {'1':'Baltimore Hawks','2':'Yellowknife Wraiths','3':'Colorado Yeti','4':'Arizona Outlaws','5':'Orange County Otters',\n",
    "                   '6':'San Jose SaberCats','7':'Philadelphia Liberty','8':'New Orleans Second Line','9':'Chicago Butchers','10':'Austin Copperheads'}\n",
    "        \n",
    "    for ID,team in teamIDs.items():\n",
    "        if row.Team == team:\n",
    "            return int(ID)"
   ]
  },
  {
   "cell_type": "code",
   "execution_count": 639,
   "metadata": {},
   "outputs": [],
   "source": [
    "def getSeason(num,stat='Kicking'):\n",
    "    if num < 10:\n",
    "        strnum = '0%s'%num\n",
    "    else:\n",
    "        strnum = str(num)\n",
    "    \n",
    "    url = \"http://sim-football.com/indexes/NSFLS\"+strnum+\"/League%sStats.html\"%stat\n",
    "    page = requests.get(url, headers = requestHead)\n",
    "    soup = BeautifulSoup(page.text,'html.parser') \n",
    "    \n",
    "    kickTable = soup.find_all('table', class_ = 'tablesorter')[0]\n",
    "    kickCols=['Name','Pos','Team','G','XPM','XPA','XPpct','FGM','FGA','FGpct','<20','20-29','30-39','40-49','50+','Lng']\n",
    "    testList = []\n",
    "    for row in kickTable.find_all('tr'):\n",
    "        cols = row.find_all('td')\n",
    "        if len(cols) > 0:\n",
    "            testList.append([t.text for t in cols])\n",
    "    kickDF = pd.DataFrame(testList,columns=[t.text for t in kickTable.find_all('tr')[0].find_all('th')])\n",
    "    for i in kickDF.columns:\n",
    "        try:\n",
    "            kickDF[i] = pd.to_numeric(kickDF[i])\n",
    "        except ValueError:\n",
    "            continue\n",
    "    kickDF['teamID'] = kickDF.apply(lambda row: teamID(row,int(strnum)),axis=1)\n",
    "#     for dist in ['<20','20-29','30-39','40-49','50+']:\n",
    "#         kickDF[dist] = kickDF.apply(lambda row: percentDist(row),axis=1)\n",
    "    kickerDF = pd.DataFrame(columns = ['Player','Ovr', 'Str', 'Agi', 'Arm', 'Int', 'Acc', 'Tck', 'Spe','Hnd', 'PBl', 'RBl', 'KDi', 'KAc', 'End'])\n",
    "    for p in range(len(kickDF)):\n",
    "    #     print(p)\n",
    "        playerRow = kickDF.loc[p]\n",
    "        playerName = playerRow['Name']\n",
    "        playerTeam = playerRow['teamID']\n",
    "\n",
    "        urlTeam = 'http://sim-football.com/indexes/NSFLS%s/Teams/%s.html'%(strnum,str(playerTeam))\n",
    "        pageTeam = requests.get(urlTeam, headers = requestHead)\n",
    "        soupTeam = BeautifulSoup(pageTeam.text,'html.parser')\n",
    "        rosterSoup = soupTeam.find_all(id = 'tabs-2')[0]\n",
    "        rosterTable = rosterSoup.find_all('table',class_='Grid')[0]\n",
    "\n",
    "        playerList = []\n",
    "        for row in rosterTable.find_all('tr'):\n",
    "            cols = row.find_all('td')\n",
    "            if len(cols) > 0:\n",
    "                playerList.append([t.text for t in cols])\n",
    "        teamDF = pd.DataFrame(playerList)\n",
    "        teamDF.columns = teamDF.iloc[0]\n",
    "        teamDF = teamDF[1:]\n",
    "        try:\n",
    "            playerDF = teamDF[teamDF['Player'] == playerName][['Player','Ovr', 'Str', 'Agi', 'Arm', 'Int', 'Acc', 'Tck', 'Spe','Hnd', 'PBl', 'RBl', 'KDi', 'KAc', 'End']]\n",
    "            playerDF.index = [p]\n",
    "            kickerDF = pd.concat([kickerDF,playerDF])\n",
    "        except ValueError:\n",
    "            kickDF = kickDF.drop([p],axis=0)\n",
    "    for i in ['Ovr', 'Str', 'Agi', 'Arm', 'Int', 'Acc', 'Tck', 'Spe','Hnd', 'PBl', 'RBl', 'KDi', 'KAc', 'End']:\n",
    "        kickerDF[i] = pd.to_numeric(kickerDF[i])\n",
    "    kickerDF.columns = ['Player','OVR','STR','AGI','ARM','INT','ACC','TCK','SPE','HND','PBl','RBl','KDi','KAc','END']\n",
    "    kickDF = pd.concat([kickDF,kickerDF],axis=1)\n",
    "    kickDF = kickDF.sort_values('teamID').set_index('teamID')\n",
    "    urlStand = 'http://sim-football.com/indexes/NSFLS%s/Index.html'%strnum\n",
    "    pageStand = requests.get(urlStand,headers=requestHead)\n",
    "    soupStand = BeautifulSoup(pageStand.text,'html.parser')\n",
    "    standList = soupStand.find_all('table', class_='Grid')\n",
    "    NSFCstand = standList[0]\n",
    "    ASFCstand = standList[1]\n",
    "    teamList = []\n",
    "    for stand in [NSFCstand,ASFCstand]:\n",
    "        for row in stand.find_all('tr'):\n",
    "            cols = row.find_all('td')\n",
    "            links = row.find_all('a')\n",
    "            if len(links) > 0:\n",
    "    #             print(links)\n",
    "    #             print(cols)\n",
    "                teamList.append([t.text for t in cols])\n",
    "    standDF = pd.DataFrame(teamList,columns=['Team','W','L','T','Pct','PF','PA','Home','Road','Conf','Div','Str'])\n",
    "    for i in ['W','L','T','Pct','PF','PA']:\n",
    "        standDF[i] = pd.to_numeric(standDF[i])\n",
    "    standDF['teamID'] = standDF.apply(lambda row: standID(int(strnum),row),axis=1)\n",
    "    standDF = standDF.sort_values('teamID').set_index('teamID')\n",
    "    standDF = standDF[['W','L','T','Pct','PF','PA']]\n",
    "    standDF.columns = ['W','L','T','WPct','PF','PA']\n",
    "    kickDF = pd.concat([kickDF,standDF],axis=1)\n",
    "    kickDF['S'] = int(strnum)\n",
    "    \n",
    "    return kickDF"
   ]
  },
  {
   "cell_type": "code",
   "execution_count": 661,
   "metadata": {},
   "outputs": [],
   "source": [
    "def getAllStats(statistic):\n",
    "    statDF = getSeason(1,stat=statistic)\n",
    "    progBar = tqdm(total=19,desc='Season')\n",
    "    progBar.update(1)\n",
    "    for s in range(2,20):\n",
    "        statDF = pd.concat([statDF,getSeason(s,stat=statistic)],sort=True)\n",
    "        progBar.update(1)\n",
    "    \n",
    "    statDF2 = statDF.reset_index().dropna()\n",
    "    statDF2.to_csv('%sDF.csv'%(statistic))\n",
    "    return statDF"
   ]
  },
  {
   "cell_type": "code",
   "execution_count": 665,
   "metadata": {},
   "outputs": [
    {
     "data": {
      "application/vnd.jupyter.widget-view+json": {
       "model_id": "933198fb65104f1f9aa045e8b4f53147",
       "version_major": 2,
       "version_minor": 0
      },
      "text/plain": [
       "HBox(children=(FloatProgress(value=0.0, description='Season', max=19.0, style=ProgressStyle(description_width=…"
      ]
     },
     "metadata": {},
     "output_type": "display_data"
    }
   ],
   "source": [
    "kickDF = getAllStats(\"Kicking\")"
   ]
  },
  {
   "cell_type": "code",
   "execution_count": 669,
   "metadata": {},
   "outputs": [],
   "source": [
    "statList = ['Passing','Rushing','Receiving','Defensive','Kicking','Punting','OffensiveLine','SpecialTeams']"
   ]
  },
  {
   "cell_type": "code",
   "execution_count": 670,
   "metadata": {},
   "outputs": [
    {
     "name": "stdout",
     "output_type": "stream",
     "text": [
      "Passing\n"
     ]
    },
    {
     "data": {
      "application/vnd.jupyter.widget-view+json": {
       "model_id": "eb243dd79c3b4c55a7e824ddf01c944b",
       "version_major": 2,
       "version_minor": 0
      },
      "text/plain": [
       "HBox(children=(FloatProgress(value=0.0, description='Season', max=19.0, style=ProgressStyle(description_width=…"
      ]
     },
     "metadata": {},
     "output_type": "display_data"
    },
    {
     "name": "stdout",
     "output_type": "stream",
     "text": [
      "Rushing\n"
     ]
    },
    {
     "data": {
      "application/vnd.jupyter.widget-view+json": {
       "model_id": "a1f73dc0f545483c8de0fc01ef343acb",
       "version_major": 2,
       "version_minor": 0
      },
      "text/plain": [
       "HBox(children=(FloatProgress(value=0.0, description='Season', max=19.0, style=ProgressStyle(description_width=…"
      ]
     },
     "metadata": {},
     "output_type": "display_data"
    },
    {
     "name": "stdout",
     "output_type": "stream",
     "text": [
      "Receiving\n"
     ]
    },
    {
     "data": {
      "application/vnd.jupyter.widget-view+json": {
       "model_id": "6b32286549ea439fb19b03cdc6322f36",
       "version_major": 2,
       "version_minor": 0
      },
      "text/plain": [
       "HBox(children=(FloatProgress(value=0.0, description='Season', max=19.0, style=ProgressStyle(description_width=…"
      ]
     },
     "metadata": {},
     "output_type": "display_data"
    },
    {
     "name": "stdout",
     "output_type": "stream",
     "text": [
      "Defensive\n"
     ]
    },
    {
     "data": {
      "application/vnd.jupyter.widget-view+json": {
       "model_id": "5a331528336e4c2a90fe05809c35166e",
       "version_major": 2,
       "version_minor": 0
      },
      "text/plain": [
       "HBox(children=(FloatProgress(value=0.0, description='Season', max=19.0, style=ProgressStyle(description_width=…"
      ]
     },
     "metadata": {},
     "output_type": "display_data"
    },
    {
     "name": "stdout",
     "output_type": "stream",
     "text": [
      "Kicking\n"
     ]
    },
    {
     "data": {
      "application/vnd.jupyter.widget-view+json": {
       "model_id": "e6fdc6fff0f04ad8ab22137fe7d38308",
       "version_major": 2,
       "version_minor": 0
      },
      "text/plain": [
       "HBox(children=(FloatProgress(value=0.0, description='Season', max=19.0, style=ProgressStyle(description_width=…"
      ]
     },
     "metadata": {},
     "output_type": "display_data"
    },
    {
     "name": "stdout",
     "output_type": "stream",
     "text": [
      "Punting\n"
     ]
    },
    {
     "data": {
      "application/vnd.jupyter.widget-view+json": {
       "model_id": "14c511abedd74c6e924e8e59356110d1",
       "version_major": 2,
       "version_minor": 0
      },
      "text/plain": [
       "HBox(children=(FloatProgress(value=0.0, description='Season', max=19.0, style=ProgressStyle(description_width=…"
      ]
     },
     "metadata": {},
     "output_type": "display_data"
    },
    {
     "name": "stdout",
     "output_type": "stream",
     "text": [
      "OffensiveLine\n"
     ]
    },
    {
     "data": {
      "application/vnd.jupyter.widget-view+json": {
       "model_id": "d9bbe6514c6448ff86389da8ea318416",
       "version_major": 2,
       "version_minor": 0
      },
      "text/plain": [
       "HBox(children=(FloatProgress(value=0.0, description='Season', max=19.0, style=ProgressStyle(description_width=…"
      ]
     },
     "metadata": {},
     "output_type": "display_data"
    },
    {
     "name": "stdout",
     "output_type": "stream",
     "text": [
      "SpecialTeams\n"
     ]
    },
    {
     "data": {
      "application/vnd.jupyter.widget-view+json": {
       "model_id": "1f073b4e5b4d49f486adbbb9c8b79831",
       "version_major": 2,
       "version_minor": 0
      },
      "text/plain": [
       "HBox(children=(FloatProgress(value=0.0, description='Season', max=19.0, style=ProgressStyle(description_width=…"
      ]
     },
     "metadata": {},
     "output_type": "display_data"
    }
   ],
   "source": [
    "for stat in statList:\n",
    "    print(stat)\n",
    "    getAllStats(stat)"
   ]
  },
  {
   "cell_type": "code",
   "execution_count": null,
   "metadata": {},
   "outputs": [],
   "source": []
  }
 ],
 "metadata": {
  "kernelspec": {
   "display_name": "Python 3",
   "language": "python",
   "name": "python3"
  },
  "language_info": {
   "codemirror_mode": {
    "name": "ipython",
    "version": 3
   },
   "file_extension": ".py",
   "mimetype": "text/x-python",
   "name": "python",
   "nbconvert_exporter": "python",
   "pygments_lexer": "ipython3",
   "version": "3.7.5"
  }
 },
 "nbformat": 4,
 "nbformat_minor": 4
}
